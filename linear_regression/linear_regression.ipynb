{
 "cells": [
  {
   "cell_type": "markdown",
   "source": [
    "# 线性回归"
   ],
   "metadata": {
    "collapsed": false
   }
  },
  {
   "cell_type": "markdown",
   "source": [
    "## 先加载数据集"
   ],
   "metadata": {
    "collapsed": false
   }
  },
  {
   "cell_type": "code",
   "execution_count": 9,
   "outputs": [
    {
     "name": "stdout",
     "output_type": "stream",
     "text": [
      "数据集的shape为:  (47, 3)\n"
     ]
    }
   ],
   "source": [
    "import numpy as np\n",
    "data = np.loadtxt(\"data.csv\",delimiter=\",\")\n",
    "print(\"数据集的shape为: \" ,data.shape)"
   ],
   "metadata": {
    "collapsed": false
   }
  },
  {
   "cell_type": "markdown",
   "source": [
    "### 处理数据集\n",
    "数组切片:\n",
    "[:,:]取所有，逗号分割不同的维度\n",
    "[:,1]取第二维度的第二个元素\n",
    "[:,0:2]取第一维度所有，第二维度的[0,2）区间\n",
    "\n",
    "X: 特征\n",
    "y: label\n",
    "m: 数据的个数"
   ],
   "metadata": {
    "collapsed": false
   }
  },
  {
   "cell_type": "code",
   "execution_count": 10,
   "outputs": [
    {
     "name": "stdout",
     "output_type": "stream",
     "text": [
      "X[0]的范围为: 852.0  -  4478.0\n",
      "X[1]的范围为: 1.0  -  5.0\n",
      "y的范围为: 169900.0  -  699900.0\n",
      "数据个数m为: 47\n"
     ]
    }
   ],
   "source": [
    "X = data[:,0:2]\n",
    "y = data[:,2]\n",
    "m = len(y)\n",
    "\n",
    "\n",
    "print(\"X[0]的范围为:\", min(X[:,0]), \" - \", max(X[:,0]))\n",
    "print(\"X[1]的范围为:\", min(X[:,1]), \" - \", max(X[:,1]))\n",
    "print(\"y的范围为:\", min(y), \" - \", max(y))\n",
    "print(\"数据个数m为:\", m)"
   ],
   "metadata": {
    "collapsed": false
   }
  },
  {
   "cell_type": "markdown",
   "source": [
    "从上述输出我们可以看出，特征有两个，并且这两个特征的范围差距很大，所以需要进行归一化的操作，将其归一化到[0,1]区间上。\n",
    "x_std = (x - min) / (max - min)"
   ],
   "metadata": {
    "collapsed": false
   }
  },
  {
   "cell_type": "code",
   "execution_count": 11,
   "outputs": [
    {
     "name": "stdout",
     "output_type": "stream",
     "text": [
      "[[0.34528406 0.5       ]\n",
      " [0.20628792 0.5       ]\n",
      " [0.42691671 0.5       ]\n",
      " [0.1555433  0.25      ]\n",
      " [0.59238831 0.75      ]\n",
      " [0.31246553 0.75      ]\n",
      " [0.18808605 0.5       ]\n",
      " [0.15857694 0.5       ]\n",
      " [0.145615   0.5       ]\n",
      " [0.17705461 0.5       ]\n",
      " [0.30005516 0.75      ]\n",
      " [0.31660232 0.5       ]\n",
      " [0.28626586 0.5       ]\n",
      " [1.         1.        ]\n",
      " [0.11472697 0.5       ]\n",
      " [0.39933811 0.75      ]\n",
      " [0.12906784 0.25      ]\n",
      " [0.10590182 0.5       ]\n",
      " [0.48455598 0.75      ]\n",
      " [0.60093767 0.75      ]\n",
      " [0.25234418 0.5       ]\n",
      " [0.28571429 0.25      ]\n",
      " [0.20739106 0.5       ]\n",
      " [0.30612245 0.75      ]\n",
      " [0.83783784 0.5       ]\n",
      " [0.06839493 0.5       ]\n",
      " [0.16712631 0.5       ]\n",
      " [0.46166575 0.5       ]\n",
      " [0.37175951 0.5       ]\n",
      " [0.49227799 0.5       ]\n",
      " [0.27220077 0.25      ]\n",
      " [0.04081633 0.        ]\n",
      " [0.32763376 0.75      ]\n",
      " [0.63017099 0.5       ]\n",
      " [0.26447876 0.75      ]\n",
      " [0.1613348  0.5       ]\n",
      " [0.10672918 0.5       ]\n",
      " [0.35300607 0.75      ]\n",
      " [0.92746828 0.75      ]\n",
      " [0.36127965 0.75      ]\n",
      " [0.22393822 0.25      ]\n",
      " [0.38223938 0.5       ]\n",
      " [0.47297297 0.75      ]\n",
      " [0.09597352 0.5       ]\n",
      " [0.         0.25      ]\n",
      " [0.27578599 0.75      ]\n",
      " [0.09680088 0.5       ]]\n",
      "X[0]的范围为: 0.0  -  1.0\n",
      "X[1]的范围为: 0.0  -  1.0\n"
     ]
    }
   ],
   "source": [
    "min_x = [min(X[:,0]),min(X[:,1])]\n",
    "max_x = [max(X[:,0]),max(X[:,1])]\n",
    "for i in range(X.shape[1]):\n",
    "    for j in range(X.shape[0]):\n",
    "        X[:,i][j] = (X[:,i][j] - min_x[i]) / (max_x[i] - min_x[i])\n",
    "\n",
    "print(X)\n",
    "print(\"X[0]的范围为:\", min(X[:,0]), \" - \", max(X[:,0]))\n",
    "print(\"X[1]的范围为:\", min(X[:,1]), \" - \", max(X[:,1]))"
   ],
   "metadata": {
    "collapsed": false
   }
  },
  {
   "cell_type": "markdown",
   "source": [
    "画图看一下当前的效果:"
   ],
   "metadata": {
    "collapsed": false
   }
  },
  {
   "cell_type": "code",
   "execution_count": 12,
   "outputs": [
    {
     "data": {
      "text/plain": "<Figure size 640x480 with 1 Axes>",
      "image/png": "[encoded data removed]"
     },
     "metadata": {},
     "output_type": "display_data"
    }
   ],
   "source": [
    "%matplotlib inline\n",
    "from matplotlib import pyplot as plt\n",
    "plt.scatter(X[:,0],X[:,1])\n",
    "plt.xlabel(\"feature 1\")\n",
    "plt.ylabel(\"feature 0\")\n",
    "plt.show()"
   ],
   "metadata": {
    "collapsed": false
   }
  },
  {
   "cell_type": "markdown",
   "source": [
    "### 构建线性模型\n",
    "需要完成的函数:\n",
    "1.　梯度下降算法\n",
    "2.　代价函数计算"
   ],
   "metadata": {
    "collapsed": false
   }
  },
  {
   "cell_type": "markdown",
   "source": [
    "1.　梯度下降算法\n",
    "求偏导，不断更新w和b"
   ],
   "metadata": {
    "collapsed": false
   }
  },
  {
   "cell_type": "code",
   "execution_count": 13,
   "outputs": [
    {
     "name": "stdout",
     "output_type": "stream",
     "text": [
      "[[0.]\n",
      " [0.]\n",
      " [0.]]\n"
     ]
    }
   ],
   "source": [
    "# 将w和b吸收入向量形式w = (w;b);\n",
    "# 同样的，数据集D表示为一个m * (d + 1)的矩阵X，每行对应一个示例，前d个元素为示例的d个属性，最后一个元素置为。\n",
    "# 先定义一个w\n",
    "w = np.zeros((data.shape[1],1))\n",
    "print(w)"
   ],
   "metadata": {
    "collapsed": false
   }
  },
  {
   "cell_type": "code",
   "execution_count": 14,
   "outputs": [
    {
     "name": "stdout",
     "output_type": "stream",
     "text": [
      "[[0.34528406 0.5        1.        ]\n",
      " [0.20628792 0.5        1.        ]\n",
      " [0.42691671 0.5        1.        ]\n",
      " [0.1555433  0.25       1.        ]\n",
      " [0.59238831 0.75       1.        ]\n",
      " [0.31246553 0.75       1.        ]\n",
      " [0.18808605 0.5        1.        ]\n",
      " [0.15857694 0.5        1.        ]\n",
      " [0.145615   0.5        1.        ]\n",
      " [0.17705461 0.5        1.        ]\n",
      " [0.30005516 0.75       1.        ]\n",
      " [0.31660232 0.5        1.        ]\n",
      " [0.28626586 0.5        1.        ]\n",
      " [1.         1.         1.        ]\n",
      " [0.11472697 0.5        1.        ]\n",
      " [0.39933811 0.75       1.        ]\n",
      " [0.12906784 0.25       1.        ]\n",
      " [0.10590182 0.5        1.        ]\n",
      " [0.48455598 0.75       1.        ]\n",
      " [0.60093767 0.75       1.        ]\n",
      " [0.25234418 0.5        1.        ]\n",
      " [0.28571429 0.25       1.        ]\n",
      " [0.20739106 0.5        1.        ]\n",
      " [0.30612245 0.75       1.        ]\n",
      " [0.83783784 0.5        1.        ]\n",
      " [0.06839493 0.5        1.        ]\n",
      " [0.16712631 0.5        1.        ]\n",
      " [0.46166575 0.5        1.        ]\n",
      " [0.37175951 0.5        1.        ]\n",
      " [0.49227799 0.5        1.        ]\n",
      " [0.27220077 0.25       1.        ]\n",
      " [0.04081633 0.         1.        ]\n",
      " [0.32763376 0.75       1.        ]\n",
      " [0.63017099 0.5        1.        ]\n",
      " [0.26447876 0.75       1.        ]\n",
      " [0.1613348  0.5        1.        ]\n",
      " [0.10672918 0.5        1.        ]\n",
      " [0.35300607 0.75       1.        ]\n",
      " [0.92746828 0.75       1.        ]\n",
      " [0.36127965 0.75       1.        ]\n",
      " [0.22393822 0.25       1.        ]\n",
      " [0.38223938 0.5        1.        ]\n",
      " [0.47297297 0.75       1.        ]\n",
      " [0.09597352 0.5        1.        ]\n",
      " [0.         0.25       1.        ]\n",
      " [0.27578599 0.75       1.        ]\n",
      " [0.09680088 0.5        1.        ]]\n"
     ]
    }
   ],
   "source": [
    "# X添加一列\n",
    "X = np.column_stack((X, np.ones((m, 1))))\n",
    "print(X)"
   ],
   "metadata": {
    "collapsed": false
   }
  },
  {
   "cell_type": "code",
   "execution_count": 15,
   "outputs": [
    {
     "data": {
      "text/plain": "[<matplotlib.lines.Line2D at 0x29a9c6cf0a0>]"
     },
     "execution_count": 15,
     "metadata": {},
     "output_type": "execute_result"
    },
    {
     "data": {
      "text/plain": "<Figure size 640x480 with 1 Axes>",
      "image/png": "[encoded data removed]"
     },
     "metadata": {},
     "output_type": "display_data"
    }
   ],
   "source": [
    "# 梯度下降算法\n",
    "\n",
    "# 循环次数\n",
    "num = 200\n",
    "# 学习率\n",
    "alpha = 0.01\n",
    "# 记录每次迭代的代价\n",
    "J = np.zeros((num,1))\n",
    "# y需要处理为列向量，否则计算的时候会出错\n",
    "y = y.reshape(-1,1)\n",
    "\n",
    "for i in range(num):\n",
    "    w = w - alpha / m * np.dot(np.transpose(X), (np.dot(X, w) - y))\n",
    "    #计算代价\n",
    "    J[i] = np.dot((np.transpose(np.dot(X, w) - y)), (np.dot(X ,w) - y)) / (2 * m)\n",
    "\n",
    "plt.xlabel(\"times\")\n",
    "plt.ylabel(\"cost\")\n",
    "\n",
    "# arange函数，函数返回一个有终点和起点的固定步长的排列\n",
    "times = np.arange(1, num + 1)\n",
    "plt.plot(times, J)"
   ],
   "metadata": {
    "collapsed": false
   }
  },
  {
   "cell_type": "markdown",
   "source": [
    "### 最终运行结果(迭代两百次)"
   ],
   "metadata": {
    "collapsed": false
   }
  },
  {
   "cell_type": "code",
   "execution_count": 16,
   "outputs": [
    {
     "name": "stdout",
     "output_type": "stream",
     "text": [
      "最终得到的参数w和b为(最后一行为b):\n",
      " [[105101.96869027]\n",
      " [130668.75710289]\n",
      " [220732.68973994]]\n"
     ]
    }
   ],
   "source": [
    "from mpl_toolkits.mplot3d import Axes3D\n",
    "\n",
    "print(\"最终得到的参数w和b为(最后一行为b):\\n\", w)"
   ],
   "metadata": {
    "collapsed": false
   }
  }
 ],
 "metadata": {
  "kernelspec": {
   "display_name": "Python 3",
   "language": "python",
   "name": "python3"
  },
  "language_info": {
   "codemirror_mode": {
    "name": "ipython",
    "version": 2
   },
   "file_extension": ".py",
   "mimetype": "text/x-python",
   "name": "python",
   "nbconvert_exporter": "python",
   "pygments_lexer": "ipython2",
   "version": "2.7.6"
  }
 },
 "nbformat": 4,
 "nbformat_minor": 0
}
