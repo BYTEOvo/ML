{
 "cells": [
  {
   "cell_type": "markdown",
   "source": [
    "# 逻辑回归手写数字分类\n",
    "## 数据读取\n",
    "数据集都是从kaggle上下载下来的，训练集共有42000行，每行代表一张手写数字的灰度图，每张灰度图都是28x28像素，也就是一张图一共有784像素点，每个点的值都是0-255。"
   ],
   "metadata": {
    "collapsed": false
   }
  },
  {
   "cell_type": "code",
   "execution_count": 20,
   "outputs": [
    {
     "name": "stdout",
     "output_type": "stream",
     "text": [
      "(42000, 784)\n",
      "(42000,)\n"
     ]
    }
   ],
   "source": [
    "import numpy as np\n",
    "\n",
    "data = np.loadtxt(\"digit-recognizer/train.csv\", delimiter=\",\", skiprows=1)\n",
    "\n",
    "y = data[:,0]\n",
    "X = data[:,1:]\n",
    "m = len(y)\n",
    "\n",
    "print(X.shape)\n",
    "print(y.shape)"
   ],
   "metadata": {
    "collapsed": false
   }
  },
  {
   "cell_type": "markdown",
   "source": [
    "## 构建模型\n",
    "使用逻辑回归的思路来解决分类问题。这里使用one Vs all的策略。"
   ],
   "metadata": {
    "collapsed": false
   }
  },
  {
   "cell_type": "code",
   "execution_count": 21,
   "outputs": [
    {
     "name": "stdout",
     "output_type": "stream",
     "text": [
      "now run  0 rows\n",
      "0.023736086806356492\n",
      "now run  1 rows\n",
      "0.022142318723784905\n",
      "now run  2 rows\n",
      "0.06744320593852289\n",
      "now run  3 rows\n",
      "0.08629708699389507\n",
      "now run  4 rows\n",
      "0.046429912092596205\n",
      "now run  5 rows\n",
      "0.08228636987124428\n",
      "now run  6 rows\n",
      "0.038354527112903235\n",
      "now run  7 rows\n",
      "0.044815802724220144\n",
      "now run  8 rows\n",
      "0.14650500057967106\n",
      "now run  9 rows\n",
      "0.10540511127190764\n"
     ]
    }
   ],
   "source": [
    "# 梯度下降算法 （公式和线性回归是相同的，只是计算y的方式改变）\n",
    "\n",
    "# 初始化w = (w;b)\n",
    "w = np.zeros((data.shape[1],10))\n",
    "\n",
    "# X添加一列\n",
    "X = np.column_stack((X, np.ones((m, 1))))\n",
    "\n",
    "# 学习率\n",
    "alpha = 0.00001\n",
    "\n",
    "temp_y = np.zeros((m, 10))\n",
    "\n",
    "for i in range(10):\n",
    "    for j in range(m):\n",
    "        if y[j] == i:\n",
    "            temp_y[j, i] = 1\n",
    "\n",
    "# 梯度下降\n",
    "for i in range(10):\n",
    "    print(\"now run \", i, \"rows\")\n",
    "\n",
    "    temp_w = np.ones((data.shape[1],1))\n",
    "\n",
    "    for j in range(10000):\n",
    "        J = (-1.0) / m * (np.dot(np.transpose(temp_y[:,i]), np.log(1.0 / (1.0 + np.exp(-1.0 * np.dot(X, w[:,i]))))) + np.dot(np.transpose(1 - temp_y[:,i]), np.log(1.0 - 1.0 / (1.0 + np.exp(-1.0 * np.dot(X, w[:,i]))))))\n",
    "        w[:,i] = w[:,i] - alpha / m * np.dot(np.transpose(X), (1.0 / (1.0 + np.exp(-1.0 * np.dot(X, w[:,i]))) - temp_y[:,i]))\n",
    "\n",
    "    print(J)"
   ],
   "metadata": {
    "collapsed": false
   }
  },
  {
   "cell_type": "code",
   "execution_count": 22,
   "outputs": [],
   "source": [
    "# 进行预测\n",
    "import pandas as pd\n",
    "test_data = np.loadtxt(\"digit-recognizer/test.csv\", delimiter=\",\", skiprows=1)\n",
    "test_m = test_data.shape[0]\n",
    "test_data = np.column_stack((test_data, np.ones((test_m, 1))))\n",
    "\n",
    "predict = np.zeros((test_m,1))\n",
    "temp_predict = np.zeros((test_m, 10))\n",
    "\n",
    "for i in range(10):\n",
    "    temp_predict[:,i] = 1.0 / (1.0 + np.exp(-1 * np.dot(test_data, w[:,i])))\n",
    "\n",
    "predict = np.argmax(temp_predict, axis=1)\n",
    "\n",
    "np.savetxt(\"digit-recognizer/sample_submission.csv\", predict, fmt=\"%d\", delimiter=\",\")"
   ],
   "metadata": {
    "collapsed": false
   }
  }
 ],
 "metadata": {
  "kernelspec": {
   "display_name": "Python 3",
   "language": "python",
   "name": "python3"
  },
  "language_info": {
   "codemirror_mode": {
    "name": "ipython",
    "version": 2
   },
   "file_extension": ".py",
   "mimetype": "text/x-python",
   "name": "python",
   "nbconvert_exporter": "python",
   "pygments_lexer": "ipython2",
   "version": "2.7.6"
  }
 },
 "nbformat": 4,
 "nbformat_minor": 0
}
